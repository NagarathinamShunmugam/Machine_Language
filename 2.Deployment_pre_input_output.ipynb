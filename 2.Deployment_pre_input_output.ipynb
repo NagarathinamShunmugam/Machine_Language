{
 "cells": [
  {
   "cell_type": "code",
   "execution_count": 3,
   "id": "254f9f00-69e5-4e9c-9625-3b64d476cc1b",
   "metadata": {},
   "outputs": [],
   "source": [
    "import pickle\n"
   ]
  },
  {
   "cell_type": "code",
   "execution_count": 5,
   "id": "e7f80bd8-f8fa-46c4-b88b-ac15cb710bba",
   "metadata": {},
   "outputs": [],
   "source": [
    "with open('model2_pickle.pkl','rb') as f:\n",
    "    mp = pickle.load(f)"
   ]
  },
  {
   "cell_type": "code",
   "execution_count": 7,
   "id": "2bdb0c57-44af-4305-b00e-b80fc5828c6b",
   "metadata": {},
   "outputs": [
    {
     "data": {
      "text/plain": [
       "array([33816.77382586])"
      ]
     },
     "execution_count": 7,
     "metadata": {},
     "output_type": "execute_result"
    }
   ],
   "source": [
    "mp.predict([[34000,7600,45000,0,1]])"
   ]
  },
  {
   "cell_type": "code",
   "execution_count": null,
   "id": "f375ebe7-b1d4-47e8-89d8-2b4188b439ee",
   "metadata": {},
   "outputs": [],
   "source": []
  }
 ],
 "metadata": {
  "kernelspec": {
   "display_name": "Python 3 (ipykernel)",
   "language": "python",
   "name": "python3"
  },
  "language_info": {
   "codemirror_mode": {
    "name": "ipython",
    "version": 3
   },
   "file_extension": ".py",
   "mimetype": "text/x-python",
   "name": "python",
   "nbconvert_exporter": "python",
   "pygments_lexer": "ipython3",
   "version": "3.12.7"
  }
 },
 "nbformat": 4,
 "nbformat_minor": 5
}
