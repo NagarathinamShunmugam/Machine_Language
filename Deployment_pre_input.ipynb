{
 "cells": [
  {
   "cell_type": "code",
   "execution_count": 11,
   "id": "254f9f00-69e5-4e9c-9625-3b64d476cc1b",
   "metadata": {},
   "outputs": [],
   "source": [
    "import joblib #method 1"
   ]
  },
  {
   "cell_type": "code",
   "execution_count": 13,
   "id": "b582a53b-d257-4229-a8e9-8f7ea325c822",
   "metadata": {},
   "outputs": [],
   "source": [
    "mj = joblib.load('model_joblib.pkl')"
   ]
  },
  {
   "cell_type": "code",
   "execution_count": 7,
   "id": "4e09f438-2ce7-44ea-9040-236dd42d27ec",
   "metadata": {},
   "outputs": [],
   "source": [
    "with open('model_pickle','rb') as f:\n",
    "    mp = pickle.load(f)"
   ]
  },
  {
   "cell_type": "code",
   "execution_count": 15,
   "id": "125c12a2-d6f9-48b5-9b11-1d445e2b1e23",
   "metadata": {},
   "outputs": [
    {
     "data": {
      "text/plain": [
       "array([1.52433676e+09])"
      ]
     },
     "execution_count": 15,
     "metadata": {},
     "output_type": "execute_result"
    }
   ],
   "source": [
    "mj.predict([[34000,7600,45000,0,1]])"
   ]
  },
  {
   "cell_type": "code",
   "execution_count": null,
   "id": "f4314681-8db5-4060-99c3-426a2f6e6afb",
   "metadata": {},
   "outputs": [],
   "source": []
  }
 ],
 "metadata": {
  "kernelspec": {
   "display_name": "Python 3 (ipykernel)",
   "language": "python",
   "name": "python3"
  },
  "language_info": {
   "codemirror_mode": {
    "name": "ipython",
    "version": 3
   },
   "file_extension": ".py",
   "mimetype": "text/x-python",
   "name": "python",
   "nbconvert_exporter": "python",
   "pygments_lexer": "ipython3",
   "version": "3.12.7"
  }
 },
 "nbformat": 4,
 "nbformat_minor": 5
}
