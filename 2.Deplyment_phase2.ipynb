{
 "cells": [
  {
   "cell_type": "code",
   "execution_count": 13,
   "id": "d0241b27-858d-4a0e-84b2-548f6f919fe4",
   "metadata": {},
   "outputs": [],
   "source": [
    "#deployment phase\n",
    "import pickle#import pickle library to convert object to bites and save that in file"
   ]
  },
  {
   "cell_type": "code",
   "execution_count": 19,
   "id": "315f15eb-d544-4c2b-8672-3b18f98438a9",
   "metadata": {},
   "outputs": [
    {
     "name": "stderr",
     "output_type": "stream",
     "text": [
      "C:\\Anaconda3\\Lib\\site-packages\\sklearn\\base.py:493: UserWarning: X does not have valid feature names, but LinearRegression was fitted with feature names\n",
      "  warnings.warn(\n"
     ]
    }
   ],
   "source": [
    "#load the final model\n",
    "loaded_model=pickle.load(open(\"finalized_linear.sav\",'rb'))\n",
    "result=loaded_model.predict([[17]])#predict the salary"
   ]
  },
  {
   "cell_type": "code",
   "execution_count": 21,
   "id": "e2a968d6-e340-4c19-827f-3801c7b92c4f",
   "metadata": {},
   "outputs": [
    {
     "data": {
      "text/plain": [
       "array([[6331.12761921]])"
      ]
     },
     "execution_count": 21,
     "metadata": {},
     "output_type": "execute_result"
    }
   ],
   "source": [
    "result"
   ]
  },
  {
   "cell_type": "code",
   "execution_count": null,
   "id": "a0f33ee4-2a98-4e00-b935-4e4f743a291b",
   "metadata": {},
   "outputs": [],
   "source": []
  },
  {
   "cell_type": "code",
   "execution_count": null,
   "id": "f2d05962-d2a7-403d-8527-4090d0b754f2",
   "metadata": {},
   "outputs": [],
   "source": []
  }
 ],
 "metadata": {
  "kernelspec": {
   "display_name": "Python 3 (ipykernel)",
   "language": "python",
   "name": "python3"
  },
  "language_info": {
   "codemirror_mode": {
    "name": "ipython",
    "version": 3
   },
   "file_extension": ".py",
   "mimetype": "text/x-python",
   "name": "python",
   "nbconvert_exporter": "python",
   "pygments_lexer": "ipython3",
   "version": "3.12.7"
  }
 },
 "nbformat": 4,
 "nbformat_minor": 5
}
